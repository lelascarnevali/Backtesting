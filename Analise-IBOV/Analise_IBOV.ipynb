{
 "cells": [
  {
   "cell_type": "code",
   "execution_count": 3,
   "metadata": {},
   "outputs": [],
   "source": [
    "import pandas as pd\n",
    "import yfinance as yf"
   ]
  },
  {
   "cell_type": "code",
   "execution_count": 5,
   "metadata": {},
   "outputs": [],
   "source": [
    "def calcular_rentabilidade_e_analise(dataframe):\n",
    "    # Calcula a rentabilidade com base no pct_change()\n",
    "    dataframe['Rentabilidade'] = dataframe['Close'].pct_change()\n",
    "\n",
    "    # Substituir valores NaN por 0 na coluna 'Rentabilidade'\n",
    "    dataframe['Rentabilidade'].fillna(0, inplace=True)\n",
    "    \n",
    "    analise_movimentos = []\n",
    "    inicio_movimento = None\n",
    "    sequencia_atual = 0\n",
    "    max_sequencia = 0\n",
    "    rentabilidade_acc = 1\n",
    "    rentabilidade_ant = 1\n",
    "\n",
    "    # Itera sobre cada linha do dataframe\n",
    "    for index, row in dataframe.iterrows():\n",
    "        # Detecta início de uma sequência\n",
    "        if inicio_movimento is None:\n",
    "            inicio_movimento = index\n",
    "            rentabilidade_acc = 1 + row['Rentabilidade']\n",
    "        \n",
    "        # Detecta sequência de alta\n",
    "        if row['Rentabilidade'] < 0 and rentabilidade_ant > 0:\n",
    "            fim_movimento = index - pd.DateOffset(1) \n",
    "            analise_movimentos.append({\n",
    "                'Sequencia': sequencia_atual,\n",
    "                'Tipo': 'Alta',\n",
    "                'Inicio': inicio_movimento,\n",
    "                'Fim': fim_movimento,\n",
    "                'Rentabilidade_Acumulada': (rentabilidade_acc - 1) * 100\n",
    "            })\n",
    "            inicio_movimento = index\n",
    "            sequencia_atual = 1\n",
    "            max_sequencia = max(max_sequencia, sequencia_atual)\n",
    "            rentabilidade_acc = 1 + row['Rentabilidade']\n",
    "        # Detecta sequência de baixa\n",
    "        elif row['Rentabilidade'] > 0 and rentabilidade_ant < 0:\n",
    "            fim_movimento = index - pd.DateOffset(1) \n",
    "            analise_movimentos.append({\n",
    "                'Sequencia': sequencia_atual,\n",
    "                'Tipo': 'Baixa',\n",
    "                'Inicio': inicio_movimento,\n",
    "                'Fim': fim_movimento,\n",
    "                'Rentabilidade_Acumulada': (rentabilidade_acc - 1) * 100\n",
    "            })\n",
    "            inicio_movimento = index\n",
    "            sequencia_atual = 1\n",
    "            max_sequencia = max(max_sequencia, sequencia_atual)\n",
    "            rentabilidade_acc = 1 + row['Rentabilidade']\n",
    "        else:\n",
    "            sequencia_atual += 1\n",
    "            max_sequencia = max(max_sequencia, sequencia_atual)\n",
    "            rentabilidade_acc *= 1 + row['Rentabilidade']\n",
    "        \n",
    "        rentabilidade_ant = row['Rentabilidade']\n",
    "    \n",
    "    # Inserção do último registro\n",
    "    fim_movimento = index\n",
    "    analise_movimentos.append({\n",
    "        'Sequencia': sequencia_atual,\n",
    "        'Tipo': 'Baixa' if rentabilidade_acc < 1 else 'Alta',\n",
    "        'Inicio': inicio_movimento,\n",
    "        'Fim': fim_movimento,\n",
    "        'Rentabilidade_Acumulada': (rentabilidade_acc - 1) * 100\n",
    "    })\n",
    "    \n",
    "    analise_movimentos_df = pd.DataFrame(analise_movimentos)\n",
    "    \n",
    "    return dataframe, analise_movimentos_df"
   ]
  },
  {
   "cell_type": "code",
   "execution_count": 4,
   "metadata": {},
   "outputs": [
    {
     "name": "stdout",
     "output_type": "stream",
     "text": [
      "[*********************100%***********************]  1 of 1 completed\n",
      "[*********************100%***********************]  1 of 1 completed\n"
     ]
    }
   ],
   "source": [
    "# Baixa os dados da ação desejada\n",
    "df_weekly = yf.download('^BVSP', interval='1wk')\n",
    "df_daily = yf.download('^BVSP', interval='1d')"
   ]
  },
  {
   "cell_type": "code",
   "execution_count": 6,
   "metadata": {},
   "outputs": [],
   "source": [
    "df_daily, analise_movimentos_daily = calcular_rentabilidade_e_analise(df_daily)"
   ]
  },
  {
   "cell_type": "code",
   "execution_count": 7,
   "metadata": {},
   "outputs": [
    {
     "data": {
      "text/html": [
       "<div>\n",
       "<style scoped>\n",
       "    .dataframe tbody tr th:only-of-type {\n",
       "        vertical-align: middle;\n",
       "    }\n",
       "\n",
       "    .dataframe tbody tr th {\n",
       "        vertical-align: top;\n",
       "    }\n",
       "\n",
       "    .dataframe thead th {\n",
       "        text-align: right;\n",
       "    }\n",
       "</style>\n",
       "<table border=\"1\" class=\"dataframe\">\n",
       "  <thead>\n",
       "    <tr style=\"text-align: right;\">\n",
       "      <th></th>\n",
       "      <th>Sequencia</th>\n",
       "      <th>Tipo</th>\n",
       "      <th>Inicio</th>\n",
       "      <th>Fim</th>\n",
       "      <th>Rentabilidade_Acumulada</th>\n",
       "    </tr>\n",
       "  </thead>\n",
       "  <tbody>\n",
       "    <tr>\n",
       "      <th>5</th>\n",
       "      <td>12</td>\n",
       "      <td>Alta</td>\n",
       "      <td>1993-05-11</td>\n",
       "      <td>1993-05-26</td>\n",
       "      <td>38.888885</td>\n",
       "    </tr>\n",
       "    <tr>\n",
       "      <th>442</th>\n",
       "      <td>12</td>\n",
       "      <td>Alta</td>\n",
       "      <td>1997-05-15</td>\n",
       "      <td>1997-06-02</td>\n",
       "      <td>10.483322</td>\n",
       "    </tr>\n",
       "    <tr>\n",
       "      <th>2974</th>\n",
       "      <td>12</td>\n",
       "      <td>Alta</td>\n",
       "      <td>2017-12-20</td>\n",
       "      <td>2018-01-08</td>\n",
       "      <td>9.217116</td>\n",
       "    </tr>\n",
       "  </tbody>\n",
       "</table>\n",
       "</div>"
      ],
      "text/plain": [
       "      Sequencia  Tipo     Inicio        Fim  Rentabilidade_Acumulada\n",
       "5            12  Alta 1993-05-11 1993-05-26                38.888885\n",
       "442          12  Alta 1997-05-15 1997-06-02                10.483322\n",
       "2974         12  Alta 2017-12-20 2018-01-08                 9.217116"
      ]
     },
     "execution_count": 7,
     "metadata": {},
     "output_type": "execute_result"
    }
   ],
   "source": [
    "analise_movimentos_daily[analise_movimentos_daily['Sequencia']== 12]"
   ]
  },
  {
   "cell_type": "code",
   "execution_count": 9,
   "metadata": {},
   "outputs": [
    {
     "data": {
      "text/plain": [
       "Date\n",
       "2017-12-20    0.009452\n",
       "2017-12-21    0.024071\n",
       "2017-12-22    0.000719\n",
       "2017-12-26    0.006663\n",
       "2017-12-27    0.005087\n",
       "2017-12-28    0.004325\n",
       "2017-12-29    0.000000\n",
       "2018-01-02    0.019489\n",
       "2018-01-03    0.001335\n",
       "2018-01-04    0.008360\n",
       "2018-01-05    0.005391\n",
       "2018-01-08    0.003895\n",
       "Name: Rentabilidade, dtype: float64"
      ]
     },
     "execution_count": 9,
     "metadata": {},
     "output_type": "execute_result"
    }
   ],
   "source": [
    "# Supondo que 'data' seja a coluna de datas no DataFrame\n",
    "start_date = '2017-12-20'\n",
    "end_date = '2018-01-08'\n",
    "\n",
    "# Filtrar o DataFrame pelo intervalo de datas\n",
    "df_daily.loc[(df_daily.index >= start_date) & (df_daily.index <= end_date)]['Rentabilidade']"
   ]
  },
  {
   "cell_type": "code",
   "execution_count": null,
   "metadata": {},
   "outputs": [],
   "source": []
  }
 ],
 "metadata": {
  "kernelspec": {
   "display_name": "Python 3",
   "language": "python",
   "name": "python3"
  },
  "language_info": {
   "codemirror_mode": {
    "name": "ipython",
    "version": 3
   },
   "file_extension": ".py",
   "mimetype": "text/x-python",
   "name": "python",
   "nbconvert_exporter": "python",
   "pygments_lexer": "ipython3",
   "version": "3.10.12"
  },
  "orig_nbformat": 4
 },
 "nbformat": 4,
 "nbformat_minor": 2
}
