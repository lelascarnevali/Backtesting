{
 "cells": [
  {
   "cell_type": "code",
   "execution_count": 2,
   "metadata": {},
   "outputs": [],
   "source": [
    "import pandas as pd\n",
    "import yfinance as yf"
   ]
  },
  {
   "cell_type": "code",
   "execution_count": 6,
   "metadata": {},
   "outputs": [
    {
     "name": "stdout",
     "output_type": "stream",
     "text": [
      "[*********************100%***********************]  1 of 1 completed\n"
     ]
    }
   ],
   "source": [
    "# Baixa os dados da ação desejada\n",
    "df_weekly = yf.download('^BVSP', interval='1wk')"
   ]
  },
  {
   "cell_type": "code",
   "execution_count": 20,
   "metadata": {},
   "outputs": [],
   "source": [
    "def encontrar_maiores_altas(series):\n",
    "    df = pd.DataFrame({'Close': series})\n",
    "    df['Retorno'] = df['Close'].pct_change()\n",
    "    \n",
    "    periodos = []\n",
    "    maiores_altas = []\n",
    "    num_semanas_alta = []\n",
    "    \n",
    "    inicio_periodo = None\n",
    "    maior_alta = 0\n",
    "    semanas_alta = 0\n",
    "    \n",
    "    for index, row in df.iterrows():\n",
    "        if row['Retorno'] > 0:\n",
    "            if inicio_periodo is None:\n",
    "                inicio_periodo = index\n",
    "            maior_alta += row['Retorno']\n",
    "            semanas_alta += 1\n",
    "        else:\n",
    "            if inicio_periodo is not None:\n",
    "                periodos.append((inicio_periodo, index))\n",
    "                maiores_altas.append(maior_alta)\n",
    "                num_semanas_alta.append(semanas_alta)\n",
    "                inicio_periodo = None\n",
    "                maior_alta = 0\n",
    "                semanas_alta = 0\n",
    "    \n",
    "    if inicio_periodo is not None:\n",
    "        periodos.append((inicio_periodo, df.index[-1]))\n",
    "        maiores_altas.append(maior_alta)\n",
    "        num_semanas_alta.append(semanas_alta)\n",
    "    \n",
    "    df_maiores_altas = pd.DataFrame({'Inicio': [inicio for inicio, _ in periodos],\n",
    "                                     'Fim': [fim for _, fim in periodos],\n",
    "                                     'Maior Alta (%)': maiores_altas,\n",
    "                                     'Num Semanas Alta': num_semanas_alta})\n",
    "    \n",
    "    df_maiores_altas = df_maiores_altas.sort_values(by='Num Semanas Alta', ascending=False)\n",
    "    \n",
    "    return df_maiores_altas"
   ]
  },
  {
   "cell_type": "code",
   "execution_count": 21,
   "metadata": {},
   "outputs": [
    {
     "name": "stdout",
     "output_type": "stream",
     "text": [
      "        Inicio        Fim  Maior Alta (%)  Num Semanas Alta\n",
      "135 2003-09-29 2004-01-12        0.423178                15\n",
      "3   1993-10-25 1994-01-24        1.531292                13\n",
      "82  1999-10-18 2000-01-03        0.439406                11\n",
      "160 2005-11-14 2006-01-30        0.218330                11\n",
      "0   1993-05-03 1993-07-12        0.946974                10\n",
      "..         ...        ...             ...               ...\n",
      "195 2008-07-07 2008-07-14        0.013190                 1\n",
      "196 2008-07-28 2008-08-04        0.007535                 1\n",
      "197 2008-08-18 2008-08-25        0.029607                 1\n",
      "11  1994-10-24 1994-10-31        0.080164                 1\n",
      "194 2008-05-26 2008-06-02        0.015969                 1\n",
      "\n",
      "[388 rows x 4 columns]\n"
     ]
    }
   ],
   "source": [
    "df_maiores_altas = encontrar_maiores_altas(df_weekly['Close'])\n",
    "print(df_maiores_altas)"
   ]
  },
  {
   "cell_type": "code",
   "execution_count": 23,
   "metadata": {},
   "outputs": [
    {
     "name": "stdout",
     "output_type": "stream",
     "text": [
      "        Inicio        Fim  Maior Alta (%)  Num Semanas Alta\n",
      "354 2020-11-02 2021-01-11        0.292242                10\n",
      "301 2016-06-13 2016-08-22        0.181444                10\n",
      "387 2023-04-24 2023-06-19        0.144885                 9\n",
      "315 2017-07-24 2017-09-18        0.159975                 8\n",
      "223 2010-08-30 2010-10-18        0.091811                 7\n",
      "..         ...        ...             ...               ...\n",
      "251 2012-10-29 2012-11-05        0.019310                 1\n",
      "252 2012-11-19 2012-11-26        0.039204                 1\n",
      "254 2012-12-31 2013-01-07        0.025774                 1\n",
      "255 2013-01-14 2013-01-21        0.007464                 1\n",
      "257 2013-03-25 2013-04-01        0.020075                 1\n",
      "\n",
      "[175 rows x 4 columns]\n"
     ]
    }
   ],
   "source": [
    "df_filtrado = df_maiores_altas.loc[df_maiores_altas['Inicio'].dt.year >= 2010]\n",
    "\n",
    "print(df_filtrado)"
   ]
  }
 ],
 "metadata": {
  "kernelspec": {
   "display_name": "Python 3",
   "language": "python",
   "name": "python3"
  },
  "language_info": {
   "codemirror_mode": {
    "name": "ipython",
    "version": 3
   },
   "file_extension": ".py",
   "mimetype": "text/x-python",
   "name": "python",
   "nbconvert_exporter": "python",
   "pygments_lexer": "ipython3",
   "version": "3.11.4"
  },
  "orig_nbformat": 4
 },
 "nbformat": 4,
 "nbformat_minor": 2
}
